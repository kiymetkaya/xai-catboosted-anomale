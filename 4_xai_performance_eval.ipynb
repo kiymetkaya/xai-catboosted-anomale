{
 "cells": [
  {
   "cell_type": "code",
   "execution_count": 86,
   "metadata": {
    "id": "Hjc3iIihKLn-"
   },
   "outputs": [],
   "source": [
    "import pandas as pd\n",
    "import numpy as np\n",
    "import torch\n",
    "from sklearn import preprocessing\n",
    "from dgl.data import DGLDataset\n",
    "import dgl\n",
    "import time\n",
    "import networkx as nx\n",
    "import category_encoders as ce\n",
    "import torch.nn as nn\n",
    "import torch.nn.functional as F\n",
    "import dgl.function as fn\n",
    "import torch\n",
    "import tqdm\n",
    "import math\n",
    "\n",
    "from catboost import CatBoostClassifier\n",
    "from sklearn.metrics import accuracy_score, recall_score, precision_score,f1_score\n",
    "\n",
    "from typing import *\n",
    "from sklearn.preprocessing import StandardScaler, Normalizer\n",
    "import socket\n",
    "import struct\n",
    "import random\n",
    "from sklearn.model_selection import train_test_split\n",
    "\n",
    "import seaborn as sns\n",
    "import matplotlib.pyplot as plt\n",
    "sns.set_style(\"darkgrid\")"
   ]
  },
  {
   "cell_type": "code",
   "execution_count": 87,
   "metadata": {},
   "outputs": [],
   "source": [
    "df_train = pd.read_parquet(\"train_embedded.parquet\")\n",
    "df_test = pd.read_parquet(\"test_embedded.parquet\")\n",
    "\n",
    "train_labels = df_train[\"Label\"]\n",
    "test_labels = df_test[\"Label\"]\n",
    "\n",
    "train_samples  = df_train.drop(columns=[\"Label\", \"Attack\"])\n",
    "test_samples = df_test.drop(columns=[\"Label\", \"Attack\"])"
   ]
  },
  {
   "cell_type": "code",
   "execution_count": null,
   "metadata": {},
   "outputs": [],
   "source": []
  },
  {
   "cell_type": "code",
   "execution_count": 4,
   "metadata": {},
   "outputs": [],
   "source": [
    "corr_labels = train_samples.corrwith(train_labels)\n",
    "desc_list_corr = (corr_labels).argsort().values\n",
    "\n",
    "col_keep_ratio = 100\n",
    "cols_to_keep = desc_list_corr[:len(desc_list_corr)*col_keep_ratio//100 ]\n",
    "cols_to_keep = [str(i) for i in cols_to_keep]\n",
    "train_samples = train_samples[cols_to_keep]\n",
    "test_samples = test_samples[cols_to_keep]"
   ]
  },
  {
   "cell_type": "code",
   "execution_count": 5,
   "metadata": {},
   "outputs": [],
   "source": [
    "df_train_xai = pd.read_parquet(\"graph_explainers_df.parquet\")"
   ]
  },
  {
   "cell_type": "code",
   "execution_count": 6,
   "metadata": {},
   "outputs": [],
   "source": [
    "def train_and_test(explainer_name, ratio_perc_to_keep, train_samples, train_labels, test_samples, test_labels, sorted_list):\n",
    "    selected_samples = sorted_list[:len(sorted_list)*ratio_perc_to_keep//100]\n",
    "    X_train = train_samples.loc[selected_samples]\n",
    "    Y_train = train_labels.loc[selected_samples]\n",
    "    X_test = test_samples\n",
    "    Y_test = test_labels\n",
    "    X_scaler = StandardScaler()\n",
    "    X_train = X_scaler.fit_transform(X_train)\n",
    "    X_test = X_scaler.transform(X_test)\n",
    "    model = CatBoostClassifier(iterations=250,\n",
    "                            learning_rate=0.1,\n",
    "                            depth=3,\n",
    "                            verbose=0)\n",
    "    try:\n",
    "        model.fit(X_train, Y_train)\n",
    "    except Exception as e:\n",
    "        print(f\"Error on {explainer_name} {ratio_perc_to_keep} : {e} \")\n",
    "        return {\n",
    "        'dataset': ratio_perc_to_keep,\n",
    "        'model': explainer_name,\n",
    "        'acc': None,\n",
    "        'f1_macro': None,\n",
    "        'precision': None,\n",
    "        'recall': None\n",
    "    }\n",
    "    Y_predicted = model.predict(X_test)\n",
    "    return {\n",
    "        'dataset': ratio_perc_to_keep,\n",
    "        'model': explainer_name,\n",
    "        'acc': accuracy_score(Y_test,Y_predicted),\n",
    "        'f1_macro': f1_score(Y_test, Y_predicted, average='macro'),\n",
    "        'precision': precision_score(Y_test,Y_predicted),\n",
    "        'recall': recall_score(Y_test,Y_predicted)\n",
    "    }"
   ]
  },
  {
   "cell_type": "code",
   "execution_count": 60,
   "metadata": {},
   "outputs": [
    {
     "name": "stderr",
     "output_type": "stream",
     "text": [
      "  0%|                                                                                              | 0/18 [00:00<?, ?it/s]"
     ]
    },
    {
     "name": "stdout",
     "output_type": "stream",
     "text": [
      "Running 10\n"
     ]
    },
    {
     "name": "stderr",
     "output_type": "stream",
     "text": [
      "  6%|████▊                                                                                 | 1/18 [00:06<01:43,  6.07s/it]"
     ]
    },
    {
     "name": "stdout",
     "output_type": "stream",
     "text": [
      "Running 15\n"
     ]
    },
    {
     "name": "stderr",
     "output_type": "stream",
     "text": [
      " 11%|█████████▌                                                                            | 2/18 [00:14<01:59,  7.44s/it]"
     ]
    },
    {
     "name": "stdout",
     "output_type": "stream",
     "text": [
      "Running 20\n"
     ]
    },
    {
     "name": "stderr",
     "output_type": "stream",
     "text": [
      " 17%|██████████████▎                                                                       | 3/18 [00:24<02:12,  8.84s/it]"
     ]
    },
    {
     "name": "stdout",
     "output_type": "stream",
     "text": [
      "Running 25\n"
     ]
    },
    {
     "name": "stderr",
     "output_type": "stream",
     "text": [
      " 22%|███████████████████                                                                   | 4/18 [00:37<02:24, 10.30s/it]"
     ]
    },
    {
     "name": "stdout",
     "output_type": "stream",
     "text": [
      "Running 30\n"
     ]
    },
    {
     "name": "stderr",
     "output_type": "stream",
     "text": [
      " 28%|███████████████████████▉                                                              | 5/18 [00:51<02:33, 11.81s/it]"
     ]
    },
    {
     "name": "stdout",
     "output_type": "stream",
     "text": [
      "Running 35\n"
     ]
    },
    {
     "name": "stderr",
     "output_type": "stream",
     "text": [
      " 33%|████████████████████████████▋                                                         | 6/18 [01:08<02:40, 13.40s/it]"
     ]
    },
    {
     "name": "stdout",
     "output_type": "stream",
     "text": [
      "Running 40\n"
     ]
    },
    {
     "name": "stderr",
     "output_type": "stream",
     "text": [
      " 39%|█████████████████████████████████▍                                                    | 7/18 [01:26<02:45, 15.02s/it]"
     ]
    },
    {
     "name": "stdout",
     "output_type": "stream",
     "text": [
      "Running 45\n"
     ]
    },
    {
     "name": "stderr",
     "output_type": "stream",
     "text": [
      " 44%|██████████████████████████████████████▏                                               | 8/18 [01:47<02:47, 16.76s/it]"
     ]
    },
    {
     "name": "stdout",
     "output_type": "stream",
     "text": [
      "Running 50\n"
     ]
    },
    {
     "name": "stderr",
     "output_type": "stream",
     "text": [
      " 50%|███████████████████████████████████████████                                           | 9/18 [02:09<02:46, 18.52s/it]"
     ]
    },
    {
     "name": "stdout",
     "output_type": "stream",
     "text": [
      "Running 55\n"
     ]
    },
    {
     "name": "stderr",
     "output_type": "stream",
     "text": [
      " 56%|███████████████████████████████████████████████▏                                     | 10/18 [02:34<02:43, 20.38s/it]"
     ]
    },
    {
     "name": "stdout",
     "output_type": "stream",
     "text": [
      "Running 60\n"
     ]
    },
    {
     "name": "stderr",
     "output_type": "stream",
     "text": [
      " 61%|███████████████████████████████████████████████████▉                                 | 11/18 [03:00<02:35, 22.23s/it]"
     ]
    },
    {
     "name": "stdout",
     "output_type": "stream",
     "text": [
      "Running 65\n"
     ]
    },
    {
     "name": "stderr",
     "output_type": "stream",
     "text": [
      " 67%|████████████████████████████████████████████████████████▋                            | 12/18 [03:29<02:25, 24.18s/it]"
     ]
    },
    {
     "name": "stdout",
     "output_type": "stream",
     "text": [
      "Running 70\n"
     ]
    },
    {
     "name": "stderr",
     "output_type": "stream",
     "text": [
      " 72%|█████████████████████████████████████████████████████████████▍                       | 13/18 [04:00<02:10, 26.17s/it]"
     ]
    },
    {
     "name": "stdout",
     "output_type": "stream",
     "text": [
      "Running 75\n"
     ]
    },
    {
     "name": "stderr",
     "output_type": "stream",
     "text": [
      " 78%|██████████████████████████████████████████████████████████████████                   | 14/18 [04:32<01:52, 28.07s/it]"
     ]
    },
    {
     "name": "stdout",
     "output_type": "stream",
     "text": [
      "Running 80\n"
     ]
    },
    {
     "name": "stderr",
     "output_type": "stream",
     "text": [
      " 83%|██████████████████████████████████████████████████████████████████████▊              | 15/18 [05:07<01:30, 30.16s/it]"
     ]
    },
    {
     "name": "stdout",
     "output_type": "stream",
     "text": [
      "Running 85\n"
     ]
    },
    {
     "name": "stderr",
     "output_type": "stream",
     "text": [
      " 89%|███████████████████████████████████████████████████████████████████████████▌         | 16/18 [05:44<01:04, 32.19s/it]"
     ]
    },
    {
     "name": "stdout",
     "output_type": "stream",
     "text": [
      "Running 90\n"
     ]
    },
    {
     "name": "stderr",
     "output_type": "stream",
     "text": [
      " 94%|████████████████████████████████████████████████████████████████████████████████▎    | 17/18 [06:23<00:34, 34.31s/it]"
     ]
    },
    {
     "name": "stdout",
     "output_type": "stream",
     "text": [
      "Running 95\n"
     ]
    },
    {
     "name": "stderr",
     "output_type": "stream",
     "text": [
      "100%|█████████████████████████████████████████████████████████████████████████████████████| 18/18 [07:05<00:00, 23.63s/it]\n"
     ]
    }
   ],
   "source": [
    "df_results = []\n",
    "sorted_list = df_train_xai.sort_values(by=['GNNExplainer']).index\n",
    "for i in tqdm.tqdm(range(10,96,5)):\n",
    "    print(\"Running\", i)\n",
    "    df_results.append(train_and_test(\"GNNExplainer\", i , train_samples, train_labels, test_samples, test_labels, sorted_list))"
   ]
  },
  {
   "cell_type": "code",
   "execution_count": 61,
   "metadata": {},
   "outputs": [],
   "source": []
  },
  {
   "cell_type": "code",
   "execution_count": 62,
   "metadata": {},
   "outputs": [
    {
     "data": {
      "text/html": [
       "<div>\n",
       "<style scoped>\n",
       "    .dataframe tbody tr th:only-of-type {\n",
       "        vertical-align: middle;\n",
       "    }\n",
       "\n",
       "    .dataframe tbody tr th {\n",
       "        vertical-align: top;\n",
       "    }\n",
       "\n",
       "    .dataframe thead th {\n",
       "        text-align: right;\n",
       "    }\n",
       "</style>\n",
       "<table border=\"1\" class=\"dataframe\">\n",
       "  <thead>\n",
       "    <tr style=\"text-align: right;\">\n",
       "      <th></th>\n",
       "      <th>dataset</th>\n",
       "      <th>model</th>\n",
       "      <th>acc</th>\n",
       "      <th>f1_macro</th>\n",
       "      <th>precision</th>\n",
       "      <th>recall</th>\n",
       "    </tr>\n",
       "  </thead>\n",
       "  <tbody>\n",
       "    <tr>\n",
       "      <th>0</th>\n",
       "      <td>10</td>\n",
       "      <td>GNNExplainer</td>\n",
       "      <td>0.994729</td>\n",
       "      <td>0.987265</td>\n",
       "      <td>0.998599</td>\n",
       "      <td>0.957302</td>\n",
       "    </tr>\n",
       "    <tr>\n",
       "      <th>1</th>\n",
       "      <td>15</td>\n",
       "      <td>GNNExplainer</td>\n",
       "      <td>0.994803</td>\n",
       "      <td>0.987444</td>\n",
       "      <td>0.998753</td>\n",
       "      <td>0.957767</td>\n",
       "    </tr>\n",
       "    <tr>\n",
       "      <th>2</th>\n",
       "      <td>20</td>\n",
       "      <td>GNNExplainer</td>\n",
       "      <td>0.994537</td>\n",
       "      <td>0.986788</td>\n",
       "      <td>0.998789</td>\n",
       "      <td>0.955509</td>\n",
       "    </tr>\n",
       "    <tr>\n",
       "      <th>3</th>\n",
       "      <td>25</td>\n",
       "      <td>GNNExplainer</td>\n",
       "      <td>0.994766</td>\n",
       "      <td>0.987351</td>\n",
       "      <td>0.998853</td>\n",
       "      <td>0.957362</td>\n",
       "    </tr>\n",
       "    <tr>\n",
       "      <th>4</th>\n",
       "      <td>30</td>\n",
       "      <td>GNNExplainer</td>\n",
       "      <td>0.994759</td>\n",
       "      <td>0.987336</td>\n",
       "      <td>0.998868</td>\n",
       "      <td>0.957295</td>\n",
       "    </tr>\n",
       "    <tr>\n",
       "      <th>5</th>\n",
       "      <td>35</td>\n",
       "      <td>GNNExplainer</td>\n",
       "      <td>0.994753</td>\n",
       "      <td>0.987321</td>\n",
       "      <td>0.998829</td>\n",
       "      <td>0.957280</td>\n",
       "    </tr>\n",
       "    <tr>\n",
       "      <th>6</th>\n",
       "      <td>40</td>\n",
       "      <td>GNNExplainer</td>\n",
       "      <td>0.994634</td>\n",
       "      <td>0.987025</td>\n",
       "      <td>0.998990</td>\n",
       "      <td>0.956129</td>\n",
       "    </tr>\n",
       "    <tr>\n",
       "      <th>7</th>\n",
       "      <td>45</td>\n",
       "      <td>GNNExplainer</td>\n",
       "      <td>0.994634</td>\n",
       "      <td>0.987026</td>\n",
       "      <td>0.998921</td>\n",
       "      <td>0.956195</td>\n",
       "    </tr>\n",
       "    <tr>\n",
       "      <th>8</th>\n",
       "      <td>50</td>\n",
       "      <td>GNNExplainer</td>\n",
       "      <td>0.994525</td>\n",
       "      <td>0.986758</td>\n",
       "      <td>0.998920</td>\n",
       "      <td>0.955288</td>\n",
       "    </tr>\n",
       "    <tr>\n",
       "      <th>9</th>\n",
       "      <td>55</td>\n",
       "      <td>GNNExplainer</td>\n",
       "      <td>0.994601</td>\n",
       "      <td>0.986946</td>\n",
       "      <td>0.998843</td>\n",
       "      <td>0.955996</td>\n",
       "    </tr>\n",
       "    <tr>\n",
       "      <th>10</th>\n",
       "      <td>60</td>\n",
       "      <td>GNNExplainer</td>\n",
       "      <td>0.994708</td>\n",
       "      <td>0.987209</td>\n",
       "      <td>0.998967</td>\n",
       "      <td>0.956771</td>\n",
       "    </tr>\n",
       "    <tr>\n",
       "      <th>11</th>\n",
       "      <td>65</td>\n",
       "      <td>GNNExplainer</td>\n",
       "      <td>0.994697</td>\n",
       "      <td>0.987181</td>\n",
       "      <td>0.998921</td>\n",
       "      <td>0.956719</td>\n",
       "    </tr>\n",
       "    <tr>\n",
       "      <th>12</th>\n",
       "      <td>70</td>\n",
       "      <td>GNNExplainer</td>\n",
       "      <td>0.994777</td>\n",
       "      <td>0.987378</td>\n",
       "      <td>0.999006</td>\n",
       "      <td>0.957310</td>\n",
       "    </tr>\n",
       "    <tr>\n",
       "      <th>13</th>\n",
       "      <td>75</td>\n",
       "      <td>GNNExplainer</td>\n",
       "      <td>0.994630</td>\n",
       "      <td>0.987017</td>\n",
       "      <td>0.998920</td>\n",
       "      <td>0.956166</td>\n",
       "    </tr>\n",
       "    <tr>\n",
       "      <th>14</th>\n",
       "      <td>80</td>\n",
       "      <td>GNNExplainer</td>\n",
       "      <td>0.994695</td>\n",
       "      <td>0.987177</td>\n",
       "      <td>0.998883</td>\n",
       "      <td>0.956742</td>\n",
       "    </tr>\n",
       "    <tr>\n",
       "      <th>15</th>\n",
       "      <td>85</td>\n",
       "      <td>GNNExplainer</td>\n",
       "      <td>0.994914</td>\n",
       "      <td>0.987716</td>\n",
       "      <td>0.998954</td>\n",
       "      <td>0.958506</td>\n",
       "    </tr>\n",
       "    <tr>\n",
       "      <th>16</th>\n",
       "      <td>90</td>\n",
       "      <td>GNNExplainer</td>\n",
       "      <td>0.994787</td>\n",
       "      <td>0.987402</td>\n",
       "      <td>0.998968</td>\n",
       "      <td>0.957428</td>\n",
       "    </tr>\n",
       "    <tr>\n",
       "      <th>17</th>\n",
       "      <td>95</td>\n",
       "      <td>GNNExplainer</td>\n",
       "      <td>0.994775</td>\n",
       "      <td>0.987374</td>\n",
       "      <td>0.999006</td>\n",
       "      <td>0.957295</td>\n",
       "    </tr>\n",
       "  </tbody>\n",
       "</table>\n",
       "</div>"
      ],
      "text/plain": [
       "    dataset         model       acc  f1_macro  precision    recall\n",
       "0        10  GNNExplainer  0.994729  0.987265   0.998599  0.957302\n",
       "1        15  GNNExplainer  0.994803  0.987444   0.998753  0.957767\n",
       "2        20  GNNExplainer  0.994537  0.986788   0.998789  0.955509\n",
       "3        25  GNNExplainer  0.994766  0.987351   0.998853  0.957362\n",
       "4        30  GNNExplainer  0.994759  0.987336   0.998868  0.957295\n",
       "5        35  GNNExplainer  0.994753  0.987321   0.998829  0.957280\n",
       "6        40  GNNExplainer  0.994634  0.987025   0.998990  0.956129\n",
       "7        45  GNNExplainer  0.994634  0.987026   0.998921  0.956195\n",
       "8        50  GNNExplainer  0.994525  0.986758   0.998920  0.955288\n",
       "9        55  GNNExplainer  0.994601  0.986946   0.998843  0.955996\n",
       "10       60  GNNExplainer  0.994708  0.987209   0.998967  0.956771\n",
       "11       65  GNNExplainer  0.994697  0.987181   0.998921  0.956719\n",
       "12       70  GNNExplainer  0.994777  0.987378   0.999006  0.957310\n",
       "13       75  GNNExplainer  0.994630  0.987017   0.998920  0.956166\n",
       "14       80  GNNExplainer  0.994695  0.987177   0.998883  0.956742\n",
       "15       85  GNNExplainer  0.994914  0.987716   0.998954  0.958506\n",
       "16       90  GNNExplainer  0.994787  0.987402   0.998968  0.957428\n",
       "17       95  GNNExplainer  0.994775  0.987374   0.999006  0.957295"
      ]
     },
     "execution_count": 62,
     "metadata": {},
     "output_type": "execute_result"
    }
   ],
   "source": [
    "pd.DataFrame(df_results)"
   ]
  },
  {
   "cell_type": "code",
   "execution_count": 74,
   "metadata": {},
   "outputs": [
    {
     "name": "stderr",
     "output_type": "stream",
     "text": [
      "  0%|                                                                                              | 0/18 [00:00<?, ?it/s]"
     ]
    },
    {
     "name": "stdout",
     "output_type": "stream",
     "text": [
      "Running 10\n"
     ]
    },
    {
     "name": "stderr",
     "output_type": "stream",
     "text": [
      "  6%|████▊                                                                                 | 1/18 [00:05<01:37,  5.73s/it]"
     ]
    },
    {
     "name": "stdout",
     "output_type": "stream",
     "text": [
      "Running 15\n"
     ]
    },
    {
     "name": "stderr",
     "output_type": "stream",
     "text": [
      " 11%|█████████▌                                                                            | 2/18 [00:13<01:50,  6.93s/it]"
     ]
    },
    {
     "name": "stdout",
     "output_type": "stream",
     "text": [
      "Running 20\n"
     ]
    },
    {
     "name": "stderr",
     "output_type": "stream",
     "text": [
      " 17%|██████████████▎                                                                       | 3/18 [00:23<02:05,  8.39s/it]"
     ]
    },
    {
     "name": "stdout",
     "output_type": "stream",
     "text": [
      "Running 25\n"
     ]
    },
    {
     "name": "stderr",
     "output_type": "stream",
     "text": [
      " 22%|███████████████████                                                                   | 4/18 [00:35<02:17,  9.83s/it]"
     ]
    },
    {
     "name": "stdout",
     "output_type": "stream",
     "text": [
      "Running 30\n"
     ]
    },
    {
     "name": "stderr",
     "output_type": "stream",
     "text": [
      " 28%|███████████████████████▉                                                              | 5/18 [00:49<02:26, 11.30s/it]"
     ]
    },
    {
     "name": "stdout",
     "output_type": "stream",
     "text": [
      "Running 35\n"
     ]
    },
    {
     "name": "stderr",
     "output_type": "stream",
     "text": [
      " 33%|████████████████████████████▋                                                         | 6/18 [01:05<02:33, 12.78s/it]"
     ]
    },
    {
     "name": "stdout",
     "output_type": "stream",
     "text": [
      "Running 40\n"
     ]
    },
    {
     "name": "stderr",
     "output_type": "stream",
     "text": [
      " 39%|█████████████████████████████████▍                                                    | 7/18 [01:23<02:41, 14.69s/it]"
     ]
    },
    {
     "name": "stdout",
     "output_type": "stream",
     "text": [
      "Running 45\n"
     ]
    },
    {
     "name": "stderr",
     "output_type": "stream",
     "text": [
      " 44%|██████████████████████████████████████▏                                               | 8/18 [01:43<02:44, 16.43s/it]"
     ]
    },
    {
     "name": "stdout",
     "output_type": "stream",
     "text": [
      "Running 50\n"
     ]
    },
    {
     "name": "stderr",
     "output_type": "stream",
     "text": [
      " 50%|███████████████████████████████████████████                                           | 9/18 [02:06<02:44, 18.32s/it]"
     ]
    },
    {
     "name": "stdout",
     "output_type": "stream",
     "text": [
      "Running 55\n"
     ]
    },
    {
     "name": "stderr",
     "output_type": "stream",
     "text": [
      " 56%|███████████████████████████████████████████████▏                                     | 10/18 [02:31<02:42, 20.32s/it]"
     ]
    },
    {
     "name": "stdout",
     "output_type": "stream",
     "text": [
      "Running 60\n"
     ]
    },
    {
     "name": "stderr",
     "output_type": "stream",
     "text": [
      " 61%|███████████████████████████████████████████████████▉                                 | 11/18 [02:57<02:35, 22.27s/it]"
     ]
    },
    {
     "name": "stdout",
     "output_type": "stream",
     "text": [
      "Running 65\n"
     ]
    },
    {
     "name": "stderr",
     "output_type": "stream",
     "text": [
      " 67%|████████████████████████████████████████████████████████▋                            | 12/18 [03:26<02:25, 24.27s/it]"
     ]
    },
    {
     "name": "stdout",
     "output_type": "stream",
     "text": [
      "Running 70\n"
     ]
    },
    {
     "name": "stderr",
     "output_type": "stream",
     "text": [
      " 72%|█████████████████████████████████████████████████████████████▍                       | 13/18 [03:57<02:10, 26.17s/it]"
     ]
    },
    {
     "name": "stdout",
     "output_type": "stream",
     "text": [
      "Running 75\n"
     ]
    },
    {
     "name": "stderr",
     "output_type": "stream",
     "text": [
      " 78%|██████████████████████████████████████████████████████████████████                   | 14/18 [04:30<01:53, 28.26s/it]"
     ]
    },
    {
     "name": "stdout",
     "output_type": "stream",
     "text": [
      "Running 80\n"
     ]
    },
    {
     "name": "stderr",
     "output_type": "stream",
     "text": [
      " 83%|██████████████████████████████████████████████████████████████████████▊              | 15/18 [05:05<01:30, 30.22s/it]"
     ]
    },
    {
     "name": "stdout",
     "output_type": "stream",
     "text": [
      "Running 85\n"
     ]
    },
    {
     "name": "stderr",
     "output_type": "stream",
     "text": [
      " 89%|███████████████████████████████████████████████████████████████████████████▌         | 16/18 [05:42<01:04, 32.38s/it]"
     ]
    },
    {
     "name": "stdout",
     "output_type": "stream",
     "text": [
      "Running 90\n"
     ]
    },
    {
     "name": "stderr",
     "output_type": "stream",
     "text": [
      " 94%|████████████████████████████████████████████████████████████████████████████████▎    | 17/18 [06:22<00:34, 34.55s/it]"
     ]
    },
    {
     "name": "stdout",
     "output_type": "stream",
     "text": [
      "Running 95\n"
     ]
    },
    {
     "name": "stderr",
     "output_type": "stream",
     "text": [
      "100%|█████████████████████████████████████████████████████████████████████████████████████| 18/18 [07:04<00:00, 23.56s/it]\n"
     ]
    }
   ],
   "source": [
    "sorted_list = df_train_xai.sort_values(by=['PGExplainer']).index\n",
    "for i in tqdm.tqdm(range(10,96,5)):\n",
    "    print(\"Running\", i)\n",
    "    df_results.append(train_and_test(\"PGExplainer\", i , train_samples, train_labels, test_samples, test_labels, sorted_list))"
   ]
  },
  {
   "cell_type": "code",
   "execution_count": 73,
   "metadata": {},
   "outputs": [
    {
     "data": {
      "text/html": [
       "<div>\n",
       "<style scoped>\n",
       "    .dataframe tbody tr th:only-of-type {\n",
       "        vertical-align: middle;\n",
       "    }\n",
       "\n",
       "    .dataframe tbody tr th {\n",
       "        vertical-align: top;\n",
       "    }\n",
       "\n",
       "    .dataframe thead th {\n",
       "        text-align: right;\n",
       "    }\n",
       "</style>\n",
       "<table border=\"1\" class=\"dataframe\">\n",
       "  <thead>\n",
       "    <tr style=\"text-align: right;\">\n",
       "      <th></th>\n",
       "      <th>dataset</th>\n",
       "      <th>model</th>\n",
       "      <th>acc</th>\n",
       "      <th>f1_macro</th>\n",
       "      <th>precision</th>\n",
       "      <th>recall</th>\n",
       "    </tr>\n",
       "  </thead>\n",
       "  <tbody>\n",
       "    <tr>\n",
       "      <th>0</th>\n",
       "      <td>10</td>\n",
       "      <td>GNNExplainer</td>\n",
       "      <td>0.994729</td>\n",
       "      <td>0.987265</td>\n",
       "      <td>0.998599</td>\n",
       "      <td>0.957302</td>\n",
       "    </tr>\n",
       "    <tr>\n",
       "      <th>1</th>\n",
       "      <td>15</td>\n",
       "      <td>GNNExplainer</td>\n",
       "      <td>0.994803</td>\n",
       "      <td>0.987444</td>\n",
       "      <td>0.998753</td>\n",
       "      <td>0.957767</td>\n",
       "    </tr>\n",
       "    <tr>\n",
       "      <th>2</th>\n",
       "      <td>20</td>\n",
       "      <td>GNNExplainer</td>\n",
       "      <td>0.994537</td>\n",
       "      <td>0.986788</td>\n",
       "      <td>0.998789</td>\n",
       "      <td>0.955509</td>\n",
       "    </tr>\n",
       "    <tr>\n",
       "      <th>3</th>\n",
       "      <td>25</td>\n",
       "      <td>GNNExplainer</td>\n",
       "      <td>0.994766</td>\n",
       "      <td>0.987351</td>\n",
       "      <td>0.998853</td>\n",
       "      <td>0.957362</td>\n",
       "    </tr>\n",
       "    <tr>\n",
       "      <th>4</th>\n",
       "      <td>30</td>\n",
       "      <td>GNNExplainer</td>\n",
       "      <td>0.994759</td>\n",
       "      <td>0.987336</td>\n",
       "      <td>0.998868</td>\n",
       "      <td>0.957295</td>\n",
       "    </tr>\n",
       "    <tr>\n",
       "      <th>5</th>\n",
       "      <td>35</td>\n",
       "      <td>GNNExplainer</td>\n",
       "      <td>0.994753</td>\n",
       "      <td>0.987321</td>\n",
       "      <td>0.998829</td>\n",
       "      <td>0.957280</td>\n",
       "    </tr>\n",
       "    <tr>\n",
       "      <th>6</th>\n",
       "      <td>40</td>\n",
       "      <td>GNNExplainer</td>\n",
       "      <td>0.994634</td>\n",
       "      <td>0.987025</td>\n",
       "      <td>0.998990</td>\n",
       "      <td>0.956129</td>\n",
       "    </tr>\n",
       "    <tr>\n",
       "      <th>7</th>\n",
       "      <td>45</td>\n",
       "      <td>GNNExplainer</td>\n",
       "      <td>0.994634</td>\n",
       "      <td>0.987026</td>\n",
       "      <td>0.998921</td>\n",
       "      <td>0.956195</td>\n",
       "    </tr>\n",
       "    <tr>\n",
       "      <th>8</th>\n",
       "      <td>50</td>\n",
       "      <td>GNNExplainer</td>\n",
       "      <td>0.994525</td>\n",
       "      <td>0.986758</td>\n",
       "      <td>0.998920</td>\n",
       "      <td>0.955288</td>\n",
       "    </tr>\n",
       "    <tr>\n",
       "      <th>9</th>\n",
       "      <td>55</td>\n",
       "      <td>GNNExplainer</td>\n",
       "      <td>0.994601</td>\n",
       "      <td>0.986946</td>\n",
       "      <td>0.998843</td>\n",
       "      <td>0.955996</td>\n",
       "    </tr>\n",
       "    <tr>\n",
       "      <th>10</th>\n",
       "      <td>60</td>\n",
       "      <td>GNNExplainer</td>\n",
       "      <td>0.994708</td>\n",
       "      <td>0.987209</td>\n",
       "      <td>0.998967</td>\n",
       "      <td>0.956771</td>\n",
       "    </tr>\n",
       "    <tr>\n",
       "      <th>11</th>\n",
       "      <td>65</td>\n",
       "      <td>GNNExplainer</td>\n",
       "      <td>0.994697</td>\n",
       "      <td>0.987181</td>\n",
       "      <td>0.998921</td>\n",
       "      <td>0.956719</td>\n",
       "    </tr>\n",
       "    <tr>\n",
       "      <th>12</th>\n",
       "      <td>70</td>\n",
       "      <td>GNNExplainer</td>\n",
       "      <td>0.994777</td>\n",
       "      <td>0.987378</td>\n",
       "      <td>0.999006</td>\n",
       "      <td>0.957310</td>\n",
       "    </tr>\n",
       "    <tr>\n",
       "      <th>13</th>\n",
       "      <td>75</td>\n",
       "      <td>GNNExplainer</td>\n",
       "      <td>0.994630</td>\n",
       "      <td>0.987017</td>\n",
       "      <td>0.998920</td>\n",
       "      <td>0.956166</td>\n",
       "    </tr>\n",
       "    <tr>\n",
       "      <th>14</th>\n",
       "      <td>80</td>\n",
       "      <td>GNNExplainer</td>\n",
       "      <td>0.994695</td>\n",
       "      <td>0.987177</td>\n",
       "      <td>0.998883</td>\n",
       "      <td>0.956742</td>\n",
       "    </tr>\n",
       "    <tr>\n",
       "      <th>15</th>\n",
       "      <td>85</td>\n",
       "      <td>GNNExplainer</td>\n",
       "      <td>0.994914</td>\n",
       "      <td>0.987716</td>\n",
       "      <td>0.998954</td>\n",
       "      <td>0.958506</td>\n",
       "    </tr>\n",
       "    <tr>\n",
       "      <th>16</th>\n",
       "      <td>90</td>\n",
       "      <td>GNNExplainer</td>\n",
       "      <td>0.994787</td>\n",
       "      <td>0.987402</td>\n",
       "      <td>0.998968</td>\n",
       "      <td>0.957428</td>\n",
       "    </tr>\n",
       "    <tr>\n",
       "      <th>17</th>\n",
       "      <td>95</td>\n",
       "      <td>GNNExplainer</td>\n",
       "      <td>0.994775</td>\n",
       "      <td>0.987374</td>\n",
       "      <td>0.999006</td>\n",
       "      <td>0.957295</td>\n",
       "    </tr>\n",
       "  </tbody>\n",
       "</table>\n",
       "</div>"
      ],
      "text/plain": [
       "    dataset         model       acc  f1_macro  precision    recall\n",
       "0        10  GNNExplainer  0.994729  0.987265   0.998599  0.957302\n",
       "1        15  GNNExplainer  0.994803  0.987444   0.998753  0.957767\n",
       "2        20  GNNExplainer  0.994537  0.986788   0.998789  0.955509\n",
       "3        25  GNNExplainer  0.994766  0.987351   0.998853  0.957362\n",
       "4        30  GNNExplainer  0.994759  0.987336   0.998868  0.957295\n",
       "5        35  GNNExplainer  0.994753  0.987321   0.998829  0.957280\n",
       "6        40  GNNExplainer  0.994634  0.987025   0.998990  0.956129\n",
       "7        45  GNNExplainer  0.994634  0.987026   0.998921  0.956195\n",
       "8        50  GNNExplainer  0.994525  0.986758   0.998920  0.955288\n",
       "9        55  GNNExplainer  0.994601  0.986946   0.998843  0.955996\n",
       "10       60  GNNExplainer  0.994708  0.987209   0.998967  0.956771\n",
       "11       65  GNNExplainer  0.994697  0.987181   0.998921  0.956719\n",
       "12       70  GNNExplainer  0.994777  0.987378   0.999006  0.957310\n",
       "13       75  GNNExplainer  0.994630  0.987017   0.998920  0.956166\n",
       "14       80  GNNExplainer  0.994695  0.987177   0.998883  0.956742\n",
       "15       85  GNNExplainer  0.994914  0.987716   0.998954  0.958506\n",
       "16       90  GNNExplainer  0.994787  0.987402   0.998968  0.957428\n",
       "17       95  GNNExplainer  0.994775  0.987374   0.999006  0.957295"
      ]
     },
     "execution_count": 73,
     "metadata": {},
     "output_type": "execute_result"
    }
   ],
   "source": [
    "pd.DataFrame(df_results)"
   ]
  },
  {
   "cell_type": "code",
   "execution_count": 59,
   "metadata": {},
   "outputs": [],
   "source": [
    "#sorted_list = df_train_xai.sort_values(by=['SHAP']).index\n",
    "#for i in tqdm.tqdm(range(35,96,5)):\n",
    "#    print(\"Running\", i)\n",
    "#    df_results.append(train_and_test(\"SHAP\", i , train_samples, train_labels, test_samples, test_labels, sorted_list))"
   ]
  },
  {
   "cell_type": "code",
   "execution_count": 75,
   "metadata": {},
   "outputs": [],
   "source": [
    "#last\n",
    "acc_ref=0.994784\n",
    "f1_macro_ref=0.987396\n",
    "precision_ref=0.998953\n",
    "recall_ref=0.957421"
   ]
  },
  {
   "cell_type": "code",
   "execution_count": 76,
   "metadata": {},
   "outputs": [],
   "source": [
    "#old\n",
    "#acc_ref=0.993922\n",
    "#f1_macro_ref=0.985285\n",
    "#precision_ref=0.997386\n",
    "#recall_ref=0.951708"
   ]
  },
  {
   "cell_type": "code",
   "execution_count": 77,
   "metadata": {},
   "outputs": [],
   "source": [
    "#pd.set_option(\"display.precision\", 5)"
   ]
  },
  {
   "cell_type": "code",
   "execution_count": null,
   "metadata": {},
   "outputs": [],
   "source": [
    "pdf_results = pd.DataFrame(df_results)\n",
    "pdf_results[\"acc_drop\"] = (acc_ref - pdf_results[\"acc\"]) / acc_ref\n",
    "pdf_results[\"f1_macro_drop\"] = (f1_macro_ref - pdf_results[\"f1_macro\"]) / f1_macro_ref\n",
    "pdf_results[\"precision_drop\"] = (precision_ref - pdf_results[\"precision\"]) / precision_ref\n",
    "pdf_results[\"recall_drop\"] = (recall_ref - pdf_results[\"recall\"]) / recall_ref\n",
    "\n",
    "pdf_results"
   ]
  },
  {
   "cell_type": "code",
   "execution_count": 79,
   "metadata": {},
   "outputs": [],
   "source": [
    "#pdf_results= pd.read_csv(\"pdf_results-Copy1.csv\")\n",
    "\n",
    "#pdf_results[\"acc_drop\"]  = pdf_results[\"acc_drop\"].abs()\n",
    "#pdf_results[\"f1_macro_drop\"]  = pdf_results[\"f1_macro_drop\"].abs()\n",
    "#pdf_results[\"precision_drop\"]  = pdf_results[\"precision_drop\"].abs()\n",
    "#pdf_results[\"recall_drop\"]  = pdf_results[\"recall_drop\"].abs()\n"
   ]
  },
  {
   "cell_type": "code",
   "execution_count": null,
   "metadata": {},
   "outputs": [],
   "source": []
  },
  {
   "cell_type": "code",
   "execution_count": 80,
   "metadata": {},
   "outputs": [],
   "source": [
    "pdf_results.to_csv('pdf_results_22102218.csv')"
   ]
  },
  {
   "cell_type": "code",
   "execution_count": 81,
   "metadata": {},
   "outputs": [],
   "source": [
    "pdf_results=pdf_results[(pdf_results.model==\"GNNExplainer\") | (pdf_results.model==\"PGExplainer\")]\n",
    "#pdf_results=pdf_results[(pdf_results.dataset==25) | (pdf_results.dataset==50) | (pdf_results.dataset==75) | (pdf_results.dataset==95)]"
   ]
  },
  {
   "cell_type": "code",
   "execution_count": 82,
   "metadata": {},
   "outputs": [
    {
     "data": {
      "image/png": "[encoded data removed]",
      "text/plain": [
       "<Figure size 600x400 with 1 Axes>"
      ]
     },
     "metadata": {},
     "output_type": "display_data"
    }
   ],
   "source": [
    "plt.figure(figsize=(6,4))\n",
    "sns.set_style(style='whitegrid') \n",
    "ax = sns.lineplot(\n",
    "    data=pdf_results[(pdf_results.model==\"GNNExplainer\") | (pdf_results.model==\"PGExplainer\")],\n",
    "    x='dataset', \n",
    "    y='f1_macro_drop', \n",
    "    marker=\"o\",\n",
    "    hue=\"model\"\n",
    "\n",
    ")\n",
    "#plt.ylim((-0.11),1.25)\n",
    "ax.set(xlabel =\"Sparsity\", ylabel = \"Fidelity+\", title = \"F1-Macro\")\n",
    "plt.show()\n",
    "fig = ax.get_figure()\n",
    "fig.savefig(\"f1_drop.png\")"
   ]
  },
  {
   "cell_type": "code",
   "execution_count": 83,
   "metadata": {},
   "outputs": [
    {
     "data": {
      "image/png": "[encoded data removed]",
      "text/plain": [
       "<Figure size 600x400 with 1 Axes>"
      ]
     },
     "metadata": {},
     "output_type": "display_data"
    }
   ],
   "source": [
    "plt.figure(figsize=(6,4))\n",
    "sns.set_style(style='whitegrid') \n",
    "ax = sns.lineplot(\n",
    "    data=pdf_results[(pdf_results.model==\"GNNExplainer\") | (pdf_results.model==\"PGExplainer\")], \n",
    "    x='dataset', \n",
    "    y='acc_drop', \n",
    "    marker=\"o\",\n",
    "    hue=\"model\"\n",
    ")\n",
    "\n",
    "#plt.ylim((-0.1),0.6)\n",
    "ax.set(xlabel =\"Sparsity\", ylabel = \"Fidelity+\", title = \"Accuracy\")\n",
    "plt.show()\n",
    "fig = ax.get_figure()\n",
    "fig.savefig(\"acc_drop.png\")\n"
   ]
  },
  {
   "cell_type": "code",
   "execution_count": 84,
   "metadata": {},
   "outputs": [
    {
     "data": {
      "image/png": "[encoded data removed]",
      "text/plain": [
       "<Figure size 600x400 with 1 Axes>"
      ]
     },
     "metadata": {},
     "output_type": "display_data"
    }
   ],
   "source": [
    "plt.figure(figsize=(6,4))\n",
    "sns.set_style(style='whitegrid') \n",
    "ax = sns.lineplot(\n",
    "    data=pdf_results[(pdf_results.model==\"GNNExplainer\") | (pdf_results.model==\"PGExplainer\")], \n",
    "    x='dataset', \n",
    "    y='recall_drop', \n",
    "    marker=\"o\",\n",
    "    hue=\"model\",\n",
    ")\n",
    "\n",
    "#plt.ylim((-0.5),1.25)\n",
    "ax.set(xlabel =\"Sparsity\", ylabel = \"Fidelity+\", title = \"DR\")\n",
    "plt.show()\n",
    "fig = ax.get_figure()\n",
    "fig.savefig(\"recall_drop.png\")\n"
   ]
  },
  {
   "cell_type": "code",
   "execution_count": null,
   "metadata": {},
   "outputs": [],
   "source": []
  },
  {
   "cell_type": "code",
   "execution_count": null,
   "metadata": {},
   "outputs": [],
   "source": []
  }
 ],
 "metadata": {
  "accelerator": "GPU",
  "colab": {
   "provenance": []
  },
  "kernelspec": {
   "display_name": "Python 3 (ipykernel)",
   "language": "python",
   "name": "python3"
  },
  "language_info": {
   "codemirror_mode": {
    "name": "ipython",
    "version": 3
   },
   "file_extension": ".py",
   "mimetype": "text/x-python",
   "name": "python",
   "nbconvert_exporter": "python",
   "pygments_lexer": "ipython3",
   "version": "3.9.12"
  }
 },
 "nbformat": 4,
 "nbformat_minor": 4
}
